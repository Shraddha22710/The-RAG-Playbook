{
 "cells": [
  {
   "cell_type": "markdown",
   "metadata": {},
   "source": [
    "# 📝 Notebook 02 — Chunking Demo\n",
    "\n",
    "Explore fixed, overlapping, and semantic chunking strategies."
   ]
  },
  {
   "cell_type": "code",
   "metadata": {},
   "source": [
    "from src.chunking import fixed_chunking, overlapping_chunking, semantic_chunking\n",
    "\n",
    "text = \"The Reserve Bank of India requires strict KYC checks. Contracts must include clear terms. Fake seals can lead to fraud. GDPR mandates consent.\"\n",
    "\n",
    "print(\"Fixed chunks:\", fixed_chunking(text, 8))\n",
    "print(\"Overlapping chunks:\", overlapping_chunking(text, 8, 3))\n",
    "print(\"Semantic chunks:\", semantic_chunking(text, 50))"
   ]
  }
 ]
}
