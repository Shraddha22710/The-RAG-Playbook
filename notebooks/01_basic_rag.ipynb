{
 "cells": [
  {
   "cell_type": "markdown",
   "metadata": {},
   "source": [
    "# 📝 Notebook 01 — Basic RAG\n",
    "\n",
    "This notebook introduces **Retrieval-Augmented Generation (RAG)**.\n",
    "\n",
    "We:\n",
    "- Load sample documents\n",
    "- Embed them\n",
    "- Build a FAISS index\n",
    "- Query with a simple question\n",
    "- Compare plain LLM vs RAG"
   ]
  },
  {
   "cell_type": "code",
   "metadata": {},
   "source": [
    "from sentence_transformers import SentenceTransformer\n",
    "import faiss, numpy as np\n",
    "\n",
    "docs = [\n",
    "    \"RBI requires KYC for transactions above ₹10 lakh.\",\n",
    "    \"GDPR mandates explicit consent for personal data.\",\n",
    "    \"Contracts must include termination clauses.\"\n",
    "]\n",
    "\n",
    "model = SentenceTransformer(\"all-MiniLM-L6-v2\")\n",
    "embs = model.encode(docs, convert_to_numpy=True)\n",
    "embs = embs / np.linalg.norm(embs, axis=1, keepdims=True)\n",
    "\n",
    "index = faiss.IndexFlatIP(embs.shape[1])\n",
    "index.add(embs.astype(\"float32\"))\n",
    "\n",
    "query = \"What is the KYC threshold in India?\"\n",
    "qv = model.encode([query], convert_to_numpy=True)\n",
    "qv = qv / np.linalg.norm(qv, axis=1, keepdims=True)\n",
    "D, I = index.search(qv.astype(\"float32\"), 1)\n",
    "print(\"Best match:\", docs[I[0][0]])"
   ]
  }
 ]
}

